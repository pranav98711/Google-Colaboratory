{
  "nbformat": 4,
  "nbformat_minor": 0,
  "metadata": {
    "colab": {
      "name": "Logistic Regression with a Neural Network mindset.ipynb",
      "provenance": [],
      "collapsed_sections": [],
      "authorship_tag": "ABX9TyOlUyFuj//bUXBt9pkwAnOE",
      "include_colab_link": true
    },
    "kernelspec": {
      "name": "python3",
      "display_name": "Python 3"
    }
  },
  "cells": [
    {
      "cell_type": "markdown",
      "metadata": {
        "id": "view-in-github",
        "colab_type": "text"
      },
      "source": [
        "<a href=\"https://colab.research.google.com/github/pranav98711/Google-Colaboratory/blob/master/DeepLearning/MyProjects/Logistic_Regression_with_a_Neural_Network_mindset.ipynb\" target=\"_parent\"><img src=\"https://colab.research.google.com/assets/colab-badge.svg\" alt=\"Open In Colab\"/></a>"
      ]
    },
    {
      "cell_type": "code",
      "metadata": {
        "id": "rqG-O0lVI8HR",
        "colab_type": "code",
        "colab": {}
      },
      "source": [
        "import numpy as np\n",
        "import h5py\n",
        "    \n",
        "    \n",
        "def load_dataset():\n",
        "    train_dataset = h5py.File('/content/train_catvnoncat.h5', \"r\")\n",
        "    train_set_x_orig = np.array(train_dataset[\"train_set_x\"][:]) # your train set features\n",
        "    train_set_y_orig = np.array(train_dataset[\"train_set_y\"][:]) # your train set labels\n",
        "\n",
        "    test_dataset = h5py.File('/content/test_catvnoncat.h5', \"r\")\n",
        "    test_set_x_orig = np.array(test_dataset[\"test_set_x\"][:]) # your test set features\n",
        "    test_set_y_orig = np.array(test_dataset[\"test_set_y\"][:]) # your test set labels\n",
        "\n",
        "    classes = np.array(test_dataset[\"list_classes\"][:]) # the list of classes\n",
        "    \n",
        "    train_set_y_orig = train_set_y_orig.reshape((1, train_set_y_orig.shape[0]))\n",
        "    test_set_y_orig = test_set_y_orig.reshape((1, test_set_y_orig.shape[0]))\n",
        "    \n",
        "    return train_set_x_orig, train_set_y_orig, test_set_x_orig, test_set_y_orig, classes\n"
      ],
      "execution_count": 0,
      "outputs": []
    },
    {
      "cell_type": "code",
      "metadata": {
        "id": "fq8VNW4TMVPR",
        "colab_type": "code",
        "colab": {}
      },
      "source": [
        "import numpy as np\n",
        "import matplotlib.pyplot as plt\n",
        "import h5py\n",
        "import scipy\n",
        "from PIL import Image\n",
        "from scipy import ndimage\n",
        "\n",
        "%matplotlib inline"
      ],
      "execution_count": 0,
      "outputs": []
    },
    {
      "cell_type": "code",
      "metadata": {
        "id": "eKwurC_PMptl",
        "colab_type": "code",
        "colab": {}
      },
      "source": [
        "train_set_x_orig, train_set_y, test_set_x_orig, test_set_y, classes = load_dataset()"
      ],
      "execution_count": 0,
      "outputs": []
    },
    {
      "cell_type": "code",
      "metadata": {
        "id": "jF45XWoiMwpH",
        "colab_type": "code",
        "outputId": "06875a10-a00a-4706-d3b6-2697cb550d29",
        "colab": {
          "base_uri": "https://localhost:8080/",
          "height": 286
        }
      },
      "source": [
        "# Example of a picture\n",
        "index = 0\n",
        "plt.imshow(train_set_x_orig[index])\n",
        "print (\"y = \" + str(train_set_y[:, index]) + \", it's a '\" + classes[np.squeeze(train_set_y[:, index])].decode(\"utf-8\") +  \"' picture.\")"
      ],
      "execution_count": 0,
      "outputs": [
        {
          "output_type": "stream",
          "text": [
            "y = [0], it's a 'non-cat' picture.\n"
          ],
          "name": "stdout"
        },
        {
          "output_type": "display_data",
          "data": {
            "image/png": "[encoded data removed]",
            "text/plain": [
              "<Figure size 432x288 with 1 Axes>"
            ]
          },
          "metadata": {
            "tags": [],
            "needs_background": "light"
          }
        }
      ]
    },
    {
      "cell_type": "code",
      "metadata": {
        "id": "Cy_-34IpMz8T",
        "colab_type": "code",
        "colab": {}
      },
      "source": [
        "m_train= train_set_x_orig.shape[0]\n",
        "m_test = test_set_x_orig[0]\n",
        "num_px=train_set_x_orig.shape[2]"
      ],
      "execution_count": 0,
      "outputs": []
    },
    {
      "cell_type": "code",
      "metadata": {
        "id": "cAO3AksmNJtL",
        "colab_type": "code",
        "colab": {}
      },
      "source": [
        "train_set_x_flatten = train_set_x_orig.reshape(( train_set_x_orig.shape[0],-1 )).T\n",
        "test_set_x_flatten = test_set_x_orig.reshape( (test_set_x_orig.shape[0],-1 )).T\n"
      ],
      "execution_count": 0,
      "outputs": []
    },
    {
      "cell_type": "code",
      "metadata": {
        "id": "Yl0zsDH7NrKc",
        "colab_type": "code",
        "colab": {}
      },
      "source": [
        "print(test_set_x_flatten.shape)"
      ],
      "execution_count": 0,
      "outputs": []
    },
    {
      "cell_type": "code",
      "metadata": {
        "id": "aAdnOpv9OFr3",
        "colab_type": "code",
        "colab": {}
      },
      "source": [
        "train_set_x = train_set_x_flatten/255\n",
        "test_set_x= test_set_x_flatten/255"
      ],
      "execution_count": 0,
      "outputs": []
    },
    {
      "cell_type": "code",
      "metadata": {
        "id": "76aqeOJsOThs",
        "colab_type": "code",
        "colab": {}
      },
      "source": [
        ""
      ],
      "execution_count": 0,
      "outputs": []
    },
    {
      "cell_type": "markdown",
      "metadata": {
        "id": "DrcwD4j0Odup",
        "colab_type": "text"
      },
      "source": [
        "## Building parts\n"
      ]
    },
    {
      "cell_type": "code",
      "metadata": {
        "id": "oIgNNpsXOipF",
        "colab_type": "code",
        "colab": {}
      },
      "source": [
        "def sigmoid(z):\n",
        "  s=1/(1+np.exp(-z))\n",
        "  return s"
      ],
      "execution_count": 0,
      "outputs": []
    },
    {
      "cell_type": "code",
      "metadata": {
        "id": "vX9wIdGwO0vX",
        "colab_type": "code",
        "colab": {}
      },
      "source": [
        "def initialize_with_zeros(dim):\n",
        "  w=np.zeros((dim,1))\n",
        "  b=0\n",
        "\n",
        "  return w,b"
      ],
      "execution_count": 0,
      "outputs": []
    },
    {
      "cell_type": "code",
      "metadata": {
        "id": "27LRBgxVPYHB",
        "colab_type": "code",
        "colab": {}
      },
      "source": [
        "def propagate(w,b,X,Y):\n",
        "  m=X.shape[1]\n",
        "  A=sigmoid(np.dot(w.T , X) + b)\n",
        "  cost = -( Y*np.log(A) + (1-Y)*np.log(1-A) )\n",
        "  dz=A-Y\n",
        "\n",
        "\n",
        "  dw=(np.dot(X, dz.T)/m)\n",
        "  db=(np.sum(dz)/m)\n",
        "  cost = np.sum(cost)/m\n",
        "\n",
        "  grads={\n",
        "      \"dw\" : dw , \n",
        "      \"db\" : db\n",
        "  }\n",
        "\n",
        "  return grads,cost"
      ],
      "execution_count": 0,
      "outputs": []
    },
    {
      "cell_type": "code",
      "metadata": {
        "id": "ELHtsibNQtkv",
        "colab_type": "code",
        "colab": {}
      },
      "source": [
        "def optimize(w, b , X ,Y , num_iterations, learning_rate , print_cost=False):\n",
        "  costs=[]\n",
        "\n",
        "  for i in range(num_iterations):\n",
        "    grads,cost = propagate(w,b,X,Y)\n",
        "    dw=grads['dw']\n",
        "    db=grads['db']\n",
        "    w=w-(learning_rate*dw)\n",
        "    b=b-(learning_rate*db)\n",
        "\n",
        "    if i%100 == 0:\n",
        "      costs.append(cost)\n",
        "\n",
        "    if print_cost and i%100 == 0:\n",
        "      print (\"Cost after iteration %i: %f\" %(i, cost))\n",
        "\n",
        "    \n",
        "  parameters={\n",
        "      \"w\" : w,\n",
        "      \"b\" : b\n",
        "  }\n",
        "\n",
        "  grads={\n",
        "      \"dw\" : dw,\n",
        "      \"db\" : db\n",
        "  }\n",
        "\n",
        "  return parameters,grads,costs\n",
        "\n"
      ],
      "execution_count": 0,
      "outputs": []
    },
    {
      "cell_type": "code",
      "metadata": {
        "id": "H6-1aPEGSpnZ",
        "colab_type": "code",
        "colab": {}
      },
      "source": [
        "def predict(w,b,X):\n",
        "  m=X.shape[1]\n",
        "  Y_prediction=np.zeros((1,m))\n",
        "  w=w.reshape(X.shape[0] , 1)\n",
        "\n",
        "  A = 1/(1+np.exp(-(( np.dot(w.T,X) ) + b))  ) \n",
        "\n",
        "  for i in range(A.shape[1]):\n",
        "    if A[0,i] <= 0.5:\n",
        "      Y_prediction[0,i] = 0\n",
        "    elif A[0,i] > 0.5:\n",
        "      Y_prediction[0,i] =1\n",
        "  return Y_prediction\n"
      ],
      "execution_count": 0,
      "outputs": []
    },
    {
      "cell_type": "code",
      "metadata": {
        "id": "-vnV3yigTPLt",
        "colab_type": "code",
        "colab": {}
      },
      "source": [
        "def model(X_train, Y_train, X_test, Y_test, num_iterations=2000 , learning_rate=0.5 , print_cost=False):\n",
        "  w,b=initialize_with_zeros(X_train.shape[0])\n",
        "\n",
        "  parameters,grads,costs = optimize(w, b , X_train, Y_train,  num_iterations, learning_rate , print_cost)\n",
        "\n",
        "  w=parameters['w']\n",
        "  b=parameters['b']\n",
        "\n",
        "  Y_prediction_test= predict(w,b,X_test)\n",
        "  Y_prediction_train=predict(w,b,X_train)\n",
        "\n",
        "  print(\"train accuracy: {} %\".format(100 - np.mean(np.abs(Y_prediction_train - Y_train)) * 100))\n",
        "  print(\"test accuracy: {} %\".format(100 - np.mean(np.abs(Y_prediction_test - Y_test)) * 100))\n",
        "\n",
        "    \n",
        "  d = {\"costs\": costs,\n",
        "       \"Y_prediction_test\": Y_prediction_test, \n",
        "       \"Y_prediction_train\" : Y_prediction_train, \n",
        "       \"w\" : w, \n",
        "       \"b\" : b,\n",
        "       \"learning_rate\" : learning_rate,\n",
        "       \"num_iterations\": num_iterations}\n",
        "  return d\n",
        "\n"
      ],
      "execution_count": 0,
      "outputs": []
    },
    {
      "cell_type": "code",
      "metadata": {
        "id": "jl_B26VxUeSg",
        "colab_type": "code",
        "outputId": "5c68cd71-a14f-469c-df5b-221088a11012",
        "colab": {
          "base_uri": "https://localhost:8080/",
          "height": 408
        }
      },
      "source": [
        "d = model(train_set_x, train_set_y, test_set_x, test_set_y, num_iterations = 2000, learning_rate = 0.005, print_cost = True)"
      ],
      "execution_count": 94,
      "outputs": [
        {
          "output_type": "stream",
          "text": [
            "Cost after iteration 0: 0.693147\n",
            "Cost after iteration 100: 0.584508\n",
            "Cost after iteration 200: 0.466949\n",
            "Cost after iteration 300: 0.376007\n",
            "Cost after iteration 400: 0.331463\n",
            "Cost after iteration 500: 0.303273\n",
            "Cost after iteration 600: 0.279880\n",
            "Cost after iteration 700: 0.260042\n",
            "Cost after iteration 800: 0.242941\n",
            "Cost after iteration 900: 0.228004\n",
            "Cost after iteration 1000: 0.214820\n",
            "Cost after iteration 1100: 0.203078\n",
            "Cost after iteration 1200: 0.192544\n",
            "Cost after iteration 1300: 0.183033\n",
            "Cost after iteration 1400: 0.174399\n",
            "Cost after iteration 1500: 0.166521\n",
            "Cost after iteration 1600: 0.159305\n",
            "Cost after iteration 1700: 0.152667\n",
            "Cost after iteration 1800: 0.146542\n",
            "Cost after iteration 1900: 0.140872\n",
            "train accuracy: 99.04306220095694 %\n",
            "test accuracy: 70.0 %\n"
          ],
          "name": "stdout"
        }
      ]
    },
    {
      "cell_type": "code",
      "metadata": {
        "id": "1k2zeCA8XnZ8",
        "colab_type": "code",
        "outputId": "09ca01b9-3bce-43b9-d283-ce53cca54e4e",
        "colab": {
          "base_uri": "https://localhost:8080/",
          "height": 295
        }
      },
      "source": [
        "costs = np.squeeze(d['costs'])\n",
        "plt.plot(costs)\n",
        "plt.ylabel('cost')\n",
        "plt.xlabel('iterations (per hundreds)')\n",
        "plt.title(\"Learning rate =\" + str(d[\"learning_rate\"]))\n",
        "plt.show()"
      ],
      "execution_count": 57,
      "outputs": [
        {
          "output_type": "display_data",
          "data": {
            "image/png": "[encoded data removed]",
            "text/plain": [
              "<Figure size 432x288 with 1 Axes>"
            ]
          },
          "metadata": {
            "tags": [],
            "needs_background": "light"
          }
        }
      ]
    },
    {
      "cell_type": "code",
      "metadata": {
        "id": "fKOSdSakYyCn",
        "colab_type": "code",
        "colab": {
          "base_uri": "https://localhost:8080/",
          "height": 286
        },
        "outputId": "819b8701-41c4-4347-8e59-ce617c9abbcb"
      },
      "source": [
        "# Example of a picture that was wrongly classified.\n",
        "index = 49\n",
        "plt.imshow(test_set_x[:,index].reshape((num_px, num_px, 3)))\n",
        "print (\"y = \" + str(test_set_y[0 ,index]) + \", you predicted that it is a \\\"\" + classes[int(d[\"Y_prediction_test\"][0,index])].decode(\"utf-8\") +  \"\\\" picture.\")"
      ],
      "execution_count": 102,
      "outputs": [
        {
          "output_type": "stream",
          "text": [
            "y = 0, you predicted that it is a \"non-cat\" picture.\n"
          ],
          "name": "stdout"
        },
        {
          "output_type": "display_data",
          "data": {
            "image/png": "[encoded data removed]",
            "text/plain": [
              "<Figure size 432x288 with 1 Axes>"
            ]
          },
          "metadata": {
            "tags": [],
            "needs_background": "light"
          }
        }
      ]
    },
    {
      "cell_type": "code",
      "metadata": {
        "id": "HFXBmdY3Qh2_",
        "colab_type": "code",
        "colab": {}
      },
      "source": [
        ""
      ],
      "execution_count": 0,
      "outputs": []
    }
  ]
}