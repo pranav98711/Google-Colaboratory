{
  "nbformat": 4,
  "nbformat_minor": 0,
  "metadata": {
    "colab": {
      "name": "Building_your_Deep_Neural_Network.ipynb",
      "provenance": [],
      "collapsed_sections": [],
      "mount_file_id": "1tDFLpICtaItRedZ9x34DW_r6lP0Ypotq",
      "authorship_tag": "ABX9TyPAyZuPfyL0lXa1Ng35kfIZ",
      "include_colab_link": true
    },
    "kernelspec": {
      "name": "python3",
      "display_name": "Python 3"
    }
  },
  "cells": [
    {
      "cell_type": "markdown",
      "metadata": {
        "id": "view-in-github",
        "colab_type": "text"
      },
      "source": [
        "<a href=\"https://colab.research.google.com/github/pranav98711/Google-Colaboratory/blob/master/DeepLearning/MyProjects/Part2_Building_your_Deep_Neural_Network/Building_your_Deep_Neural_Network.ipynb\" target=\"_parent\"><img src=\"https://colab.research.google.com/assets/colab-badge.svg\" alt=\"Open In Colab\"/></a>"
      ]
    },
    {
      "cell_type": "code",
      "metadata": {
        "id": "3-HqpeRw0OOq",
        "colab_type": "code",
        "colab": {}
      },
      "source": [
        "import numpy as np\n",
        "import h5py\n",
        "import matplotlib.pyplot as plt\n",
        "from sample_data.dnn_utils import sigmoid, relu, relu_backward,sigmoid_backward\n",
        "from sample_data.testcases import *  #just for checking ifeach helper functions created works properly of not\n",
        "\n",
        "%matplotlib inline\n",
        "plt.rcParams['figure.figsize'] = (5.0, 4.0) # set default size of plots\n",
        "plt.rcParams['image.interpolation'] = 'nearest'\n",
        "plt.rcParams['image.cmap'] = 'gray'\n",
        "\n",
        "%load_ext autoreload\n",
        "%autoreload 2\n",
        "\n",
        "np.random.seed(1)"
      ],
      "execution_count": 0,
      "outputs": []
    },
    {
      "cell_type": "markdown",
      "metadata": {
        "id": "Ga7v6MYk_PWg",
        "colab_type": "text"
      },
      "source": [
        "### Initialization"
      ]
    },
    {
      "cell_type": "markdown",
      "metadata": {
        "id": "rITkmq1sCoQ_",
        "colab_type": "text"
      },
      "source": [
        "For 2 layer"
      ]
    },
    {
      "cell_type": "code",
      "metadata": {
        "id": "OCD7UKcV1_Ko",
        "colab_type": "code",
        "colab": {}
      },
      "source": [
        "def initialize_parameters(n_x,n_h,n_y):\n",
        "  W1 = np.random.randn( n_x,n_h ) * 0.01\n",
        "  b1=np.zeros((n_x,1))\n",
        "  W2=np.random.randn( n_h,n_y ) * 0.01\n",
        "  b2=np.zeros((n_y,1))\n",
        "\n",
        "\n",
        "  parameters ={\n",
        "      \"W1\" : W1,\n",
        "      \"b1\" : b1,\n",
        "      \"W2\" : W2,\n",
        "      \"b2\" : b2\n",
        "  }\n",
        "\n",
        "  return parameters"
      ],
      "execution_count": 0,
      "outputs": []
    },
    {
      "cell_type": "code",
      "metadata": {
        "id": "wArx3lv06zc5",
        "colab_type": "code",
        "colab": {}
      },
      "source": [
        "#Testing\n",
        "parameters = initialize_parameters(3,2,1)\n",
        "print(\"W1 = \" + str(parameters[\"W1\"]))\n",
        "print(\"b1 = \" + str(parameters[\"b1\"]))\n",
        "print(\"W2 = \" + str(parameters[\"W2\"]))\n",
        "print(\"b2 = \" + str(parameters[\"b2\"]))"
      ],
      "execution_count": 0,
      "outputs": []
    },
    {
      "cell_type": "code",
      "metadata": {
        "id": "NniQhZwTA6r7",
        "colab_type": "code",
        "colab": {}
      },
      "source": [
        "from google.colab import drive\n",
        "drive.mount('/content/drive')"
      ],
      "execution_count": 0,
      "outputs": []
    },
    {
      "cell_type": "markdown",
      "metadata": {
        "id": "l9dkBQH7CqXA",
        "colab_type": "text"
      },
      "source": [
        "For L layer"
      ]
    },
    {
      "cell_type": "code",
      "metadata": {
        "id": "S19Tm7MH7GZR",
        "colab_type": "code",
        "colab": {}
      },
      "source": [
        "def initialize_parameters_deep(layer_dims):\n",
        "  np.random.seed(3)\n",
        "  parameters={}\n",
        "  L=len(layer_dims)\n",
        "  for l in range(1,L):\n",
        "    \n",
        "    parameters[\"W\" + str(l)] = np.random.randn( layer_dims[l] , layer_dims[l-1] ) * 0.01\n",
        "    parameters[\"b\" + str(l)] = np.zeros((layer_dims[l], 1 ))\n",
        "\n",
        "  return parameters\n",
        "    \n"
      ],
      "execution_count": 0,
      "outputs": []
    },
    {
      "cell_type": "code",
      "metadata": {
        "id": "u9Gc1X1z7p9x",
        "colab_type": "code",
        "colab": {}
      },
      "source": [
        "#Testing\n",
        "parameters = initialize_parameters_deep([5,4,3])\n",
        "print(\"W1 = \" + str(parameters[\"W1\"]))\n",
        "print(\"b1 = \" + str(parameters[\"b1\"]))\n",
        "print(\"W2 = \" + str(parameters[\"W2\"]))\n",
        "print(\"b2 = \" + str(parameters[\"b2\"]))"
      ],
      "execution_count": 0,
      "outputs": []
    },
    {
      "cell_type": "markdown",
      "metadata": {
        "id": "S_PUUgTW_Yhc",
        "colab_type": "text"
      },
      "source": [
        "### Forward Propagation "
      ]
    },
    {
      "cell_type": "code",
      "metadata": {
        "id": "UQ14PPLx89Dh",
        "colab_type": "code",
        "colab": {}
      },
      "source": [
        "def linear_forward(A , W, b):\n",
        "  Z=np.dot(W,A) + b\n",
        "  cache=(A,W,b)\n",
        "  return Z,cache"
      ],
      "execution_count": 0,
      "outputs": []
    },
    {
      "cell_type": "code",
      "metadata": {
        "id": "ue60gpfu_2ZN",
        "colab_type": "code",
        "colab": {}
      },
      "source": [
        "#Testing\n",
        "A, W, b = linear_forward_test_case()\n",
        "\n",
        "Z, linear_cache = linear_forward(A, W, b)\n",
        "print(\"Z = \" + str(Z))"
      ],
      "execution_count": 0,
      "outputs": []
    },
    {
      "cell_type": "code",
      "metadata": {
        "id": "gzQP-d6e_4Es",
        "colab_type": "code",
        "colab": {}
      },
      "source": [
        "def linear_activation_forward(A_prev , W,b,activation):\n",
        "  Z,linear_cache=linear_forward(A_prev,W,b)\n",
        "\n",
        "  if activation==\"sigmoid\":\n",
        "    A,activation_cache=sigmoid(Z)\n",
        "\n",
        "  elif activation==\"relu\":\n",
        "    A,activation_cache=relu(Z)\n",
        "\n",
        "  cache=(linear_cache,activation_cache)\n",
        "\n",
        "  return A,cache"
      ],
      "execution_count": 0,
      "outputs": []
    },
    {
      "cell_type": "code",
      "metadata": {
        "id": "Ne1XnUjdCQAh",
        "colab_type": "code",
        "colab": {}
      },
      "source": [
        "#Testing\n",
        "A_prev, W, b = linear_activation_forward_test_case()\n",
        "\n",
        "A, linear_activation_cache = linear_activation_forward(A_prev, W, b, activation = \"sigmoid\")\n",
        "print(\"With sigmoid: A = \" + str(A))\n",
        "\n",
        "A, linear_activation_cache = linear_activation_forward(A_prev, W, b, activation = \"relu\")\n",
        "print(\"With ReLU: A = \" + str(A))\n"
      ],
      "execution_count": 0,
      "outputs": []
    },
    {
      "cell_type": "code",
      "metadata": {
        "id": "VNwLuEaQChbd",
        "colab_type": "code",
        "colab": {}
      },
      "source": [
        "def L_model_forward(X,parameters):\n",
        "  caches = []\n",
        "  A = X\n",
        "  L = len(parameters) //2   ##the floor division // rounds the result down to the nearest whole number\n",
        "\n",
        "  for l in range(1,L):\n",
        "    A_prev=A\n",
        "    A,cache=linear_activation_forward(A_prev, parameters[\"W\" + str(l)] ,parameters[\"b\" + str(l)] , activation=\"relu\"  )\n",
        "    caches.append(cache)\n",
        "\n",
        "  AL,cache=linear_activation_forward(A, parameters[\"W\" + str(L)] ,parameters[\"b\" + str(L)] , activation=\"sigmoid\"  )\n",
        "  caches.append(cache)\n",
        "  \n",
        "  return AL,caches"
      ],
      "execution_count": 0,
      "outputs": []
    },
    {
      "cell_type": "code",
      "metadata": {
        "id": "3EaT8SUwErIC",
        "colab_type": "code",
        "colab": {}
      },
      "source": [
        "#Testing\n",
        "X, parameters = L_model_forward_test_case_2hidden()\n",
        "AL, caches = L_model_forward(X, parameters)\n",
        "print(\"AL = \" + str(AL))\n",
        "print(\"Length of caches list = \" + str(len(caches)))"
      ],
      "execution_count": 0,
      "outputs": []
    },
    {
      "cell_type": "markdown",
      "metadata": {
        "id": "wxlG-blPB-k5",
        "colab_type": "text"
      },
      "source": [
        "## COmputing Cost"
      ]
    },
    {
      "cell_type": "code",
      "metadata": {
        "id": "zOUX7dVbEsx3",
        "colab_type": "code",
        "colab": {}
      },
      "source": [
        "def compute_cost(AL , Y):\n",
        "  m=Y.shape[1]\n",
        "  cost = -(np.sum( np.multiply(Y , np.log(AL)) + np.multiply((1-Y) , np.log(1-AL))  ))/m\n",
        "  cost=np.squeeze(cost)      # To make sure your cost's shape is what we expect (e.g. this turns [[17]] into 17).\n",
        "  return cost\n",
        "\n"
      ],
      "execution_count": 0,
      "outputs": []
    },
    {
      "cell_type": "code",
      "metadata": {
        "id": "RqNA8_2VAqsF",
        "colab_type": "code",
        "colab": {
          "base_uri": "https://localhost:8080/",
          "height": 33
        },
        "outputId": "0a04f38d-5684-4de2-be3c-b911ced3bcfd"
      },
      "source": [
        "#Testing\n",
        "Y, AL = compute_cost_test_case()\n",
        "\n",
        "print(\"cost = \" + str(compute_cost(AL, Y)))"
      ],
      "execution_count": 13,
      "outputs": [
        {
          "output_type": "stream",
          "text": [
            "cost = 0.2797765635793423\n"
          ],
          "name": "stdout"
        }
      ]
    },
    {
      "cell_type": "markdown",
      "metadata": {
        "id": "u7hI4lc4CErF",
        "colab_type": "text"
      },
      "source": [
        "## Backward propagation"
      ]
    },
    {
      "cell_type": "code",
      "metadata": {
        "id": "FDw4wxDeBySR",
        "colab_type": "code",
        "colab": {}
      },
      "source": [
        "def linear_backward(dZ,cache):\n",
        "  A_prev,W,b = cache\n",
        "  m=A_prev.shape[1]\n",
        "\n",
        "  dW=np.dot(dZ , A_prev.T)/m\n",
        "  db=np.sum(dZ , axis=1, keepdims=True)/m\n",
        "  dA_prev=np.dot(W.T ,dZ)\n",
        "\n",
        "  return dA_prev,dW,db"
      ],
      "execution_count": 0,
      "outputs": []
    },
    {
      "cell_type": "code",
      "metadata": {
        "id": "tePxuj3GEvt0",
        "colab_type": "code",
        "colab": {
          "base_uri": "https://localhost:8080/",
          "height": 201
        },
        "outputId": "9c29da0c-4794-4ab8-b7ec-a6a1380ade30"
      },
      "source": [
        "#Testing\n",
        "dZ, linear_cache = linear_backward_test_case()\n",
        "\n",
        "dA_prev, dW, db = linear_backward(dZ, linear_cache)\n",
        "print (\"dA_prev = \"+ str(dA_prev))\n",
        "print (\"dW = \" + str(dW))\n",
        "print (\"db = \" + str(db))"
      ],
      "execution_count": 15,
      "outputs": [
        {
          "output_type": "stream",
          "text": [
            "dA_prev = [[-1.15171336  0.06718465 -0.3204696   2.09812712]\n",
            " [ 0.60345879 -3.72508701  5.81700741 -3.84326836]\n",
            " [-0.4319552  -1.30987417  1.72354705  0.05070578]\n",
            " [-0.38981415  0.60811244 -1.25938424  1.47191593]\n",
            " [-2.52214926  2.67882552 -0.67947465  1.48119548]]\n",
            "dW = [[ 0.07313866 -0.0976715  -0.87585828  0.73763362  0.00785716]\n",
            " [ 0.85508818  0.37530413 -0.59912655  0.71278189 -0.58931808]\n",
            " [ 0.97913304 -0.24376494 -0.08839671  0.55151192 -0.10290907]]\n",
            "db = [[-0.14713786]\n",
            " [-0.11313155]\n",
            " [-0.13209101]]\n"
          ],
          "name": "stdout"
        }
      ]
    },
    {
      "cell_type": "code",
      "metadata": {
        "id": "KqJRW2ECEyJ3",
        "colab_type": "code",
        "colab": {}
      },
      "source": [
        "def linear_activation_backward(dA,cache,activation):\n",
        "  linear_cache,activation_cache = cache\n",
        "\n",
        "  if activation==\"relu\":\n",
        "    dZ = relu_backward(dA , activation_cache)\n",
        "    dA_prev,dW,db=linear_backward(dZ,linear_cache)\n",
        "\n",
        "  elif activation==\"sigmoid\":\n",
        "    dZ=sigmoid_backward(dA,activation_cache)\n",
        "    dA_prev,dW,db=linear_backward(dZ,linear_cache)\n",
        "\n",
        "  return dA_prev,dW,db\n"
      ],
      "execution_count": 0,
      "outputs": []
    },
    {
      "cell_type": "code",
      "metadata": {
        "id": "mG-JLOR3GCWl",
        "colab_type": "code",
        "colab": {
          "base_uri": "https://localhost:8080/",
          "height": 234
        },
        "outputId": "ec27fdd2-d403-4ed1-bf14-a1b2f1a880f8"
      },
      "source": [
        "#Testing\n",
        "dAL, linear_activation_cache = linear_activation_backward_test_case()\n",
        "\n",
        "dA_prev, dW, db = linear_activation_backward(dAL, linear_activation_cache, activation = \"sigmoid\")\n",
        "print (\"sigmoid:\")\n",
        "print (\"dA_prev = \"+ str(dA_prev))\n",
        "print (\"dW = \" + str(dW))\n",
        "print (\"db = \" + str(db) + \"\\n\")\n",
        "\n",
        "dA_prev, dW, db = linear_activation_backward(dAL, linear_activation_cache, activation = \"relu\")\n",
        "print (\"relu:\")\n",
        "print (\"dA_prev = \"+ str(dA_prev))\n",
        "print (\"dW = \" + str(dW))\n",
        "print (\"db = \" + str(db))"
      ],
      "execution_count": 20,
      "outputs": [
        {
          "output_type": "stream",
          "text": [
            "sigmoid:\n",
            "dA_prev = [[ 0.11017994  0.01105339]\n",
            " [ 0.09466817  0.00949723]\n",
            " [-0.05743092 -0.00576154]]\n",
            "dW = [[ 0.10266786  0.09778551 -0.01968084]]\n",
            "db = [[-0.05729622]]\n",
            "\n",
            "relu:\n",
            "dA_prev = [[ 0.44090989  0.        ]\n",
            " [ 0.37883606  0.        ]\n",
            " [-0.2298228   0.        ]]\n",
            "dW = [[ 0.44513824  0.37371418 -0.10478989]]\n",
            "db = [[-0.20837892]]\n"
          ],
          "name": "stdout"
        }
      ]
    },
    {
      "cell_type": "code",
      "metadata": {
        "id": "WWUc5tGgGJqA",
        "colab_type": "code",
        "colab": {}
      },
      "source": [
        "def L_model_backward(AL , Y , caches):\n",
        "  \n",
        "  grads={}\n",
        "  L=len(caches)\n",
        "  m=AL.shape[1]\n",
        "  Y=Y.reshape(AL.shape)\n",
        "\n",
        "  dAL = -np.divide(Y,AL) + np.divide(1-Y , 1-AL)\n",
        "\n",
        "  current_cache=caches[L-1]\n",
        "  grads[\"dA\" + str(L-1)] , grads[\"dW\" + str(L)] , grads[\"db\" + str(L)] = linear_activation_backward(dAL , current_cache, activation=\"sigmoid\")\n",
        "\n",
        "\n",
        "  for l in reversed(range(L-1)):\n",
        "    current_cache =caches[l]\n",
        "    dA_prev_temp, dW_temp, db_temp = linear_activation_backward( grads[\"dA\" + str(l+1)], current_cache, activation=\"relu\")\n",
        "    grads[\"dA\" + str(l)] = dA_prev_temp\n",
        "    grads[\"dW\" + str(l + 1)] = dW_temp\n",
        "    grads[\"db\" + str(l + 1)] = db_temp\n",
        "\n",
        "  return grads"
      ],
      "execution_count": 0,
      "outputs": []
    },
    {
      "cell_type": "code",
      "metadata": {
        "id": "tDphYhNZGuGt",
        "colab_type": "code",
        "colab": {
          "base_uri": "https://localhost:8080/",
          "height": 167
        },
        "outputId": "b14a94f9-7c7c-4f7b-9c20-a1f2ef193863"
      },
      "source": [
        "#Testing\n",
        "AL, Y_assess, caches = L_model_backward_test_case()\n",
        "grads = L_model_backward(AL, Y_assess, caches)\n",
        "print_grads(grads)"
      ],
      "execution_count": 36,
      "outputs": [
        {
          "output_type": "stream",
          "text": [
            "dW1 = [[0.41010002 0.07807203 0.13798444 0.10502167]\n",
            " [0.         0.         0.         0.        ]\n",
            " [0.05283652 0.01005865 0.01777766 0.0135308 ]]\n",
            "db1 = [[-0.22007063]\n",
            " [ 0.        ]\n",
            " [-0.02835349]]\n",
            "dA1 = [[ 0.12913162 -0.44014127]\n",
            " [-0.14175655  0.48317296]\n",
            " [ 0.01663708 -0.05670698]]\n"
          ],
          "name": "stdout"
        }
      ]
    },
    {
      "cell_type": "code",
      "metadata": {
        "id": "BfBL4hHDIzM0",
        "colab_type": "code",
        "colab": {}
      },
      "source": [
        "def update_parameters(parameters,grads,learning_rate):\n",
        "\n",
        "  L = len(parameters) // 2 \n",
        "\n",
        "  for l in range(L):\n",
        "    parameters[\"W\" + str(l+1)] =parameters[\"W\" + str(l+1)] - learning_rate*grads[\"dW\" + str(l+1)]  \n",
        "    parameters[\"b\" + str(l+1)] = parameters[\"b\" + str(l+1)] - learning_rate*grads[\"db\" + str(l+1)] \n",
        " \n",
        "  return parameters"
      ],
      "execution_count": 0,
      "outputs": []
    },
    {
      "cell_type": "code",
      "metadata": {
        "id": "mpIAQhHoK6pf",
        "colab_type": "code",
        "colab": {
          "base_uri": "https://localhost:8080/",
          "height": 150
        },
        "outputId": "c4f4d035-e3e2-4a6c-93ba-ce93b45b20cc"
      },
      "source": [
        "#Testing\n",
        "parameters, grads = update_parameters_test_case()\n",
        "parameters = update_parameters(parameters, grads, 0.1)\n",
        "\n",
        "print (\"W1 = \"+ str(parameters[\"W1\"]))\n",
        "print (\"b1 = \"+ str(parameters[\"b1\"]))\n",
        "print (\"W2 = \"+ str(parameters[\"W2\"]))\n",
        "print (\"b2 = \"+ str(parameters[\"b2\"]))"
      ],
      "execution_count": 42,
      "outputs": [
        {
          "output_type": "stream",
          "text": [
            "W1 = [[-0.59562069 -0.09991781 -2.14584584  1.82662008]\n",
            " [-1.76569676 -0.80627147  0.51115557 -1.18258802]\n",
            " [-1.0535704  -0.86128581  0.68284052  2.20374577]]\n",
            "b1 = [[-0.04659241]\n",
            " [-1.28888275]\n",
            " [ 0.53405496]]\n",
            "W2 = [[-0.55569196  0.0354055   1.32964895]]\n",
            "b2 = [[-0.84610769]]\n"
          ],
          "name": "stdout"
        }
      ]
    },
    {
      "cell_type": "code",
      "metadata": {
        "id": "gxmLKdFPK9Y3",
        "colab_type": "code",
        "colab": {}
      },
      "source": [
        ""
      ],
      "execution_count": 0,
      "outputs": []
    }
  ]
}