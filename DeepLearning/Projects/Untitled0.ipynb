{
  "nbformat": 4,
  "nbformat_minor": 0,
  "metadata": {
    "colab": {
      "name": "Untitled0.ipynb",
      "provenance": [],
      "collapsed_sections": [],
      "toc_visible": true,
      "authorship_tag": "ABX9TyO0VChq8I3wJTX/+8ogRkcq",
      "include_colab_link": true
    },
    "kernelspec": {
      "name": "python3",
      "display_name": "Python 3"
    }
  },
  "cells": [
    {
      "cell_type": "markdown",
      "metadata": {
        "id": "view-in-github",
        "colab_type": "text"
      },
      "source": [
        "<a href=\"https://colab.research.google.com/github/pranav98711/Google-Colaboratory/blob/master/DeepLearning/Projects/Untitled0.ipynb\" target=\"_parent\"><img src=\"https://colab.research.google.com/assets/colab-badge.svg\" alt=\"Open In Colab\"/></a>"
      ]
    },
    {
      "cell_type": "markdown",
      "metadata": {
        "id": "3EXGIDeFwFcD",
        "colab_type": "text"
      },
      "source": [
        "### Intro to Cola"
      ]
    },
    {
      "cell_type": "code",
      "metadata": {
        "id": "Iyjp1Ui1wjJH",
        "colab_type": "code",
        "colab": {}
      },
      "source": [
        ""
      ],
      "execution_count": 0,
      "outputs": []
    },
    {
      "cell_type": "markdown",
      "metadata": {
        "id": "Obv2aVMj1KHO",
        "colab_type": "text"
      },
      "source": [
        "### This is testing"
      ]
    },
    {
      "cell_type": "code",
      "metadata": {
        "id": "pdCXAK-61NfA",
        "colab_type": "code",
        "colab": {}
      },
      "source": [
        ""
      ],
      "execution_count": 0,
      "outputs": []
    },
    {
      "cell_type": "markdown",
      "metadata": {
        "id": "yM1njbCX1i-o",
        "colab_type": "text"
      },
      "source": [
        "#"
      ]
    },
    {
      "cell_type": "markdown",
      "metadata": {
        "id": "EhAB0zSW1ja_",
        "colab_type": "text"
      },
      "source": [
        "## Another testing"
      ]
    },
    {
      "cell_type": "code",
      "metadata": {
        "id": "n3CprSY21lP1",
        "colab_type": "code",
        "colab": {}
      },
      "source": [
        ""
      ],
      "execution_count": 0,
      "outputs": []
    }
  ]
}