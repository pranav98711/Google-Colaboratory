{
  "nbformat": 4,
  "nbformat_minor": 0,
  "metadata": {
    "colab": {
      "name": "Read_hdf5_File.ipynb",
      "provenance": [],
      "collapsed_sections": [],
      "authorship_tag": "ABX9TyMv79nXpagaO9EIz7y9Kq5F",
      "include_colab_link": true
    },
    "kernelspec": {
      "name": "python3",
      "display_name": "Python 3"
    }
  },
  "cells": [
    {
      "cell_type": "markdown",
      "metadata": {
        "id": "view-in-github",
        "colab_type": "text"
      },
      "source": [
        "<a href=\"https://colab.research.google.com/github/pranav98711/Google-Colaboratory/blob/master/DeepLearning/DataPreprocessing/Read_hdf5_File.ipynb\" target=\"_parent\"><img src=\"https://colab.research.google.com/assets/colab-badge.svg\" alt=\"Open In Colab\"/></a>"
      ]
    },
    {
      "cell_type": "markdown",
      "metadata": {
        "id": "HENbq_uCGj9h",
        "colab_type": "text"
      },
      "source": [
        "## Reading HDF5 file"
      ]
    },
    {
      "cell_type": "code",
      "metadata": {
        "id": "9XJGmRtYDfOz",
        "colab_type": "code",
        "colab": {}
      },
      "source": [
        "import numpy as np\n",
        "import h5py"
      ],
      "execution_count": 0,
      "outputs": []
    },
    {
      "cell_type": "markdown",
      "metadata": {
        "id": "65XYUUwCGtRQ",
        "colab_type": "text"
      },
      "source": [
        "## The code below will list datasets in hdf5 file\n",
        "Take a look at the hdf5 file struture.\n",
        "\n",
        "More at ---- https://support.hdfgroup.org/HDF5/Tutor/HDF5Intro.pdf"
      ]
    },
    {
      "cell_type": "code",
      "metadata": {
        "id": "3XfFfFGTDs7T",
        "colab_type": "code",
        "outputId": "c286401b-ec53-42ea-97d1-4ace02fa0ddf",
        "colab": {
          "base_uri": "https://localhost:8080/",
          "height": 50
        }
      },
      "source": [
        "with h5py.File('/content/test_catvnoncat.h5' , 'r') as hdf:\n",
        "               ls=list(hdf.keys())\n",
        "               print('List of datasets in this file \\n' , ls)\n",
        "               "
      ],
      "execution_count": 0,
      "outputs": [
        {
          "output_type": "stream",
          "text": [
            "List of datasets in this file \n",
            " ['list_classes', 'test_set_x', 'test_set_y']\n"
          ],
          "name": "stdout"
        }
      ]
    },
    {
      "cell_type": "code",
      "metadata": {
        "id": "SfLMoTcHEBnE",
        "colab_type": "code",
        "outputId": "a254ca3d-2288-44bc-fb46-81f6ae31fd76",
        "colab": {
          "base_uri": "https://localhost:8080/",
          "height": 67
        }
      },
      "source": [
        "with h5py.File('/content/test_catvnoncat.h5' , 'r') as hdf:\n",
        "               ls=list(hdf.keys())\n",
        "               print('List of datasets in this file \\n' , ls)\n",
        "               data=hdf.get('test_set_x')\n",
        "               dataaset1=np.array(data)\n",
        "               print(dataaset1.shape)"
      ],
      "execution_count": 0,
      "outputs": [
        {
          "output_type": "stream",
          "text": [
            "List of datasets in this file \n",
            " ['list_classes', 'test_set_x', 'test_set_y']\n",
            "(50, 64, 64, 3)\n"
          ],
          "name": "stdout"
        }
      ]
    },
    {
      "cell_type": "code",
      "metadata": {
        "id": "5sODiSn7FkVt",
        "colab_type": "code",
        "outputId": "29ba1465-0863-4ef5-dcb1-db41d7b1e72c",
        "colab": {
          "base_uri": "https://localhost:8080/",
          "height": 67
        }
      },
      "source": [
        "with h5py.File('/content/test_catvnoncat.h5' , 'r') as hdf:\n",
        "               ls=list(hdf.keys())\n",
        "               print('List of datasets in this file \\n' , ls)\n",
        "               data=hdf.get('test_set_y')\n",
        "               dataaset1=np.array(data)\n",
        "               print(dataaset1.shape)"
      ],
      "execution_count": 0,
      "outputs": [
        {
          "output_type": "stream",
          "text": [
            "List of datasets in this file \n",
            " ['list_classes', 'test_set_x', 'test_set_y']\n",
            "(50,)\n"
          ],
          "name": "stdout"
        }
      ]
    },
    {
      "cell_type": "markdown",
      "metadata": {
        "id": "K7ZC5N9gIbFA",
        "colab_type": "text"
      },
      "source": [
        "(50,) means One Element Tuple\n",
        "\n",
        "The essential element here is the trailing comma. As for any expression, parentheses are optional, so you may also write one-element tuples like but it is the comma, not the parentheses, that define the tuple.\n",
        "\n",
        "Documentation -- https://wiki.python.org/moin/TupleSyntax\n",
        "\n",
        "Sometimes that extra 1 dimension matters. A (1,m) array can multiply a (n,1) array to produce a (n,m) array.\n",
        "\n",
        "\n",
        "\n"
      ]
    },
    {
      "cell_type": "code",
      "metadata": {
        "id": "DkbMtB6-IT1g",
        "colab_type": "code",
        "outputId": "f2da9481-0fbd-46e1-b487-6684c978a5f9",
        "colab": {
          "base_uri": "https://localhost:8080/",
          "height": 84
        }
      },
      "source": [
        "with h5py.File('/content/test_catvnoncat.h5' , 'r') as hdf:\n",
        "               ls=list(hdf.keys())\n",
        "               print('List of datasets in this file \\n' , ls)\n",
        "               data=hdf.get('list_classes')\n",
        "               dataaset1=np.array(data)\n",
        "               print(dataaset1.shape)\n",
        "               print(dataaset1)"
      ],
      "execution_count": 0,
      "outputs": [
        {
          "output_type": "stream",
          "text": [
            "List of datasets in this file \n",
            " ['list_classes', 'test_set_x', 'test_set_y']\n",
            "(2,)\n",
            "[b'non-cat' b'cat']\n"
          ],
          "name": "stdout"
        }
      ]
    },
    {
      "cell_type": "code",
      "metadata": {
        "id": "sRSYiyUqIWFG",
        "colab_type": "code",
        "colab": {}
      },
      "source": [
        ""
      ],
      "execution_count": 0,
      "outputs": []
    }
  ]
}