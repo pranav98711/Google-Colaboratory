{
  "nbformat": 4,
  "nbformat_minor": 0,
  "metadata": {
    "colab": {
      "name": "Create_save_hdf5files.ipynb",
      "provenance": [],
      "collapsed_sections": [],
      "authorship_tag": "ABX9TyOv0zDnwEJqeuK+2HDC2Y/L",
      "include_colab_link": true
    },
    "kernelspec": {
      "name": "python3",
      "display_name": "Python 3"
    }
  },
  "cells": [
    {
      "cell_type": "markdown",
      "metadata": {
        "id": "view-in-github",
        "colab_type": "text"
      },
      "source": [
        "<a href=\"https://colab.research.google.com/github/pranav98711/Google-Colaboratory/blob/master/DeepLearning/DataPreprocessing/Create_save_hdf5files.ipynb\" target=\"_parent\"><img src=\"https://colab.research.google.com/assets/colab-badge.svg\" alt=\"Open In Colab\"/></a>"
      ]
    },
    {
      "cell_type": "markdown",
      "metadata": {
        "id": "dAwdIlsQOhM_",
        "colab_type": "text"
      },
      "source": [
        "Create and Save hdf5 files"
      ]
    },
    {
      "cell_type": "code",
      "metadata": {
        "id": "IRysGou_ODAm",
        "colab_type": "code",
        "colab": {}
      },
      "source": [
        "import numpy as np\n",
        "import h5py\n",
        "\n",
        "matrix1=np.random.random(size=(1000,1000))     # create sample matric to save in hdf5 file\n",
        "matrix2=np.random.random(size=(1000,1000))\n",
        "\n",
        "with h5py.File('myfile.h5' , 'w') as hdf:\n",
        "  hdf.create_dataset('dataset1' , data=matrix1)    # saves matrix in dataset1\n",
        "  hdf.create_dataset('dataset2' , data=matrix2)"
      ],
      "execution_count": 0,
      "outputs": []
    },
    {
      "cell_type": "markdown",
      "metadata": {
        "id": "PPg_Uoa_PPHh",
        "colab_type": "text"
      },
      "source": [
        "Reading hdf5 file"
      ]
    },
    {
      "cell_type": "code",
      "metadata": {
        "id": "uXxjn5mAObnE",
        "colab_type": "code",
        "outputId": "1349774d-a16c-42d4-fa7c-3bb76ee79592",
        "colab": {
          "base_uri": "https://localhost:8080/",
          "height": 67
        }
      },
      "source": [
        "with h5py.File('/content/myfile.h5' , 'r') as hdf:\n",
        "               ls=list(hdf.keys())\n",
        "               print('List of datasets in this file \\n' , ls)\n",
        "               data=hdf.get('dataset1')\n",
        "               dataset1=np.array(data)\n",
        "               print(dataset1.shape)"
      ],
      "execution_count": 0,
      "outputs": [
        {
          "output_type": "stream",
          "text": [
            "List of datasets in this file \n",
            " ['dataset1', 'dataset2']\n",
            "(1000, 1000)\n"
          ],
          "name": "stdout"
        }
      ]
    },
    {
      "cell_type": "code",
      "metadata": {
        "id": "mgKeCU6mO_oZ",
        "colab_type": "code",
        "colab": {}
      },
      "source": [
        ""
      ],
      "execution_count": 0,
      "outputs": []
    }
  ]
}